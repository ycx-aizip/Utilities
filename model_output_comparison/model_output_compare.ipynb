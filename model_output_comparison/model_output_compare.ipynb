{
 "cells": [
  {
   "cell_type": "markdown",
   "metadata": {},
   "source": [
    "# Environment"
   ]
  },
  {
   "cell_type": "code",
   "execution_count": 1,
   "metadata": {},
   "outputs": [],
   "source": [
    "import torch\n",
    "import numpy as np"
   ]
  },
  {
   "cell_type": "markdown",
   "metadata": {},
   "source": [
    "# Data preparation"
   ]
  },
  {
   "cell_type": "code",
   "execution_count": 2,
   "metadata": {},
   "outputs": [
    {
     "name": "stdout",
     "output_type": "stream",
     "text": [
      "[ -9 -13   7 ...  13  -8  -2]\n",
      "[ -9 -13   7 ...  13  -8  -2]\n"
     ]
    }
   ],
   "source": [
    "pth_tensor_dir = \"./pth_output/\" #pytorch directory here\n",
    "bin_array_dir = \"./board_output/\" #binary file directory here\n",
    "layer_name = \"blocks.16.mobile_inverted_conv.point_linear\"\n",
    "pth_tensor_path = pth_tensor_dir + layer_name + \".pth\"\n",
    "bin_array_path = bin_array_dir + layer_name + \".bin\"\n",
    "\n",
    "pth_tensor = torch.load(pth_tensor_path) #pytorch directory here\n",
    "pth_tensor = pth_tensor.permute(0,2,3,1).flatten()\n",
    "# Convert the PyTorch tensor to a numpy array\n",
    "pth_tensor_numpy = pth_tensor.numpy()\n",
    "print(pth_tensor_numpy)\n",
    "\n",
    "# Load the binary file into a 1D numpy array, change to corresponding int data type\n",
    "bin_array = np.fromfile(bin_array_path, dtype=np.int8)\n",
    "print(bin_array)"
   ]
  },
  {
   "cell_type": "markdown",
   "metadata": {},
   "source": [
    "# Comparison\n",
    "## Comparison between pytorch output tensor with board layer output"
   ]
  },
  {
   "cell_type": "code",
   "execution_count": 3,
   "metadata": {},
   "outputs": [
    {
     "name": "stdout",
     "output_type": "stream",
     "text": [
      "Indices of unequal elements: (array([], dtype=int64),)\n",
      "All elements are equal.\n"
     ]
    }
   ],
   "source": [
    "# Check if the two arrays have the same shape before comparing\n",
    "if pth_tensor_numpy.shape == bin_array.shape:\n",
    "    # Compare the two arrays element by element\n",
    "    comparison = np.equal(pth_tensor_numpy, bin_array)\n",
    "\n",
    "    # Find the indices of the elements that are not equal\n",
    "    unequal_indices = np.where(comparison == False)\n",
    "\n",
    "    # Print the indices of the unequal elements\n",
    "    print(\"Indices of unequal elements:\", unequal_indices)\n",
    "\n",
    "    # Check if unequal_indices is not empty\n",
    "    if unequal_indices[0].size != 0:\n",
    "        # Print the unequal elements from both arrays\n",
    "        for index in np.nditer(unequal_indices):\n",
    "            print(f\"Element at index {index}: f_numpy={pth_tensor_numpy[index]}, bin_array={bin_array[index]}\")\n",
    "    else:\n",
    "        print(\"All elements are equal.\")\n",
    "else:\n",
    "    print(\"The two arrays have different shapes and cannot be compared.\")"
   ]
  }
 ],
 "metadata": {
  "kernelspec": {
   "display_name": "env_st_defect_detect",
   "language": "python",
   "name": "python3"
  },
  "language_info": {
   "codemirror_mode": {
    "name": "ipython",
    "version": 3
   },
   "file_extension": ".py",
   "mimetype": "text/x-python",
   "name": "python",
   "nbconvert_exporter": "python",
   "pygments_lexer": "ipython3",
   "version": "3.12.1"
  }
 },
 "nbformat": 4,
 "nbformat_minor": 2
}
